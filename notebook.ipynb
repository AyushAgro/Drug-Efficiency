{
  "nbformat": 4,
  "nbformat_minor": 0,
  "metadata": {
    "colab": {
      "provenance": []
    },
    "kernelspec": {
      "name": "python3",
      "display_name": "Python 3"
    },
    "language_info": {
      "name": "python"
    }
  },
  "cells": [
    {
      "cell_type": "code",
      "source": [
        "import pandas as pd\n",
        "from sklearn.linear_model import LinearRegression\n",
        "from sklearn.tree import DecisionTreeRegressor\n",
        "from sklearn.svm import SVR\n",
        "from sklearn.neural_network import MLPRegressor\n",
        "from sklearn.ensemble import RandomForestRegressor\n",
        "from sklearn.metrics import r2_score, mean_absolute_error, mean_squared_error, mean_squared_log_error\n",
        "from sklearn.preprocessing import LabelEncoder\n",
        "from sklearn.model_selection import train_test_split"
      ],
      "metadata": {
        "id": "oXLEeK1JE_wA"
      },
      "execution_count": 124,
      "outputs": []
    },
    {
      "cell_type": "code",
      "source": [
        "df = pd.read_csv('IC50.csv')"
      ],
      "metadata": {
        "id": "RA_l4EtzFSsT"
      },
      "execution_count": 105,
      "outputs": []
    },
    {
      "cell_type": "code",
      "source": [
        "process_df = df[df.standard_value.notna()]\n",
        "process_df =  process_df[process_df.canonical_smiles.notna()]"
      ],
      "metadata": {
        "id": "g4Eay6bzFTLM"
      },
      "execution_count": 106,
      "outputs": []
    },
    {
      "cell_type": "code",
      "source": [
        "# dropping rows where the chemical compound is same.\n",
        "process_df = process_df.drop_duplicates(['canonical_smiles'])"
      ],
      "metadata": {
        "id": "h5CJGdxgFTuv"
      },
      "execution_count": 107,
      "outputs": []
    },
    {
      "cell_type": "code",
      "source": [
        "bioactivity_threshold = []\n",
        "for i in process_df.standard_value:\n",
        "  if float(i) >= 10000:\n",
        "    bioactivity_threshold.append(\"inactive\")\n",
        "  elif float(i) <= 1000:\n",
        "    bioactivity_threshold.append(\"active\")\n",
        "  else:\n",
        "    bioactivity_threshold.append(\"intermediate\")\n",
        "process_df['class'] = bioactivity_threshold"
      ],
      "metadata": {
        "id": "kM0MEf2WiAOG"
      },
      "execution_count": 121,
      "outputs": []
    },
    {
      "cell_type": "code",
      "source": [
        "col_to_drop = ['activity_properties', 'ligand_efficiency', 'bao_endpoint', 'assay_variant_accession', 'assay_variant_mutation',\n",
        "               'standard_upper_value', 'target_chembl_id', 'target_organism', 'target_pref_name', 'target_tax_id', 'text_value', 'toid',\n",
        "               'qudt_units', 'src_id', 'upper_value', 'uo_units', 'bao_format', 'relation', 'standard_relation', 'record_id', 'standard_units', 'units', 'value', 'document_year',\n",
        "               'potential_duplicate', 'pchembl_value', 'standard_text_value', 'standard_type', 'activity_comment', 'data_validity_comment', 'data_validity_description']\n",
        "df_final = process_df.drop(col_to_drop, axis = 1) "
      ],
      "metadata": {
        "id": "tl_9YPs7UO37"
      },
      "execution_count": 108,
      "outputs": []
    },
    {
      "cell_type": "code",
      "source": [
        "df_final.head()"
      ],
      "metadata": {
        "colab": {
          "base_uri": "https://localhost:8080/",
          "height": 443
        },
        "id": "lnKEWPe4WQuw",
        "outputId": "b44bf211-9075-474f-c1cb-0b2846c16e64"
      },
      "execution_count": 109,
      "outputs": [
        {
          "output_type": "execute_result",
          "data": {
            "text/plain": [
              "   activity_id assay_chembl_id  \\\n",
              "0        33969    CHEMBL643384   \n",
              "1        37563    CHEMBL643384   \n",
              "2        37565    CHEMBL643384   \n",
              "3        38902    CHEMBL643384   \n",
              "4        41170    CHEMBL643384   \n",
              "\n",
              "                                   assay_description assay_type  \\\n",
              "0  Inhibitory concentration against acetylcholine...          B   \n",
              "1  Inhibitory concentration against acetylcholine...          B   \n",
              "2  Inhibitory concentration against acetylcholine...          B   \n",
              "3  Inhibitory concentration against acetylcholine...          B   \n",
              "4  Inhibitory concentration against acetylcholine...          B   \n",
              "\n",
              "               bao_label                                   canonical_smiles  \\\n",
              "0  single protein format              CCOc1nn(-c2cccc(OCc3ccccc3)c2)c(=O)o1   \n",
              "1  single protein format         O=C(N1CCCCC1)n1nc(-c2ccc(Cl)cc2)nc1SCC1CC1   \n",
              "2  single protein format  CN(C(=O)n1nc(-c2ccc(Cl)cc2)nc1SCC(F)(F)F)c1ccccc1   \n",
              "3  single protein format      O=C(N1CCCCC1)n1nc(-c2ccc(Cl)cc2)nc1SCC(F)(F)F   \n",
              "4  single protein format          CSc1nc(-c2ccc(OC(F)(F)F)cc2)nn1C(=O)N(C)C   \n",
              "\n",
              "  document_chembl_id document_journal  document_year molecule_chembl_id  \\\n",
              "0      CHEMBL1148382    J. Med. Chem.         2004.0       CHEMBL133897   \n",
              "1      CHEMBL1148382    J. Med. Chem.         2004.0       CHEMBL336398   \n",
              "2      CHEMBL1148382    J. Med. Chem.         2004.0       CHEMBL131588   \n",
              "3      CHEMBL1148382    J. Med. Chem.         2004.0       CHEMBL130628   \n",
              "4      CHEMBL1148382    J. Med. Chem.         2004.0       CHEMBL130478   \n",
              "\n",
              "  molecule_pref_name parent_molecule_chembl_id  standard_flag  standard_value  \\\n",
              "0                NaN              CHEMBL133897              1           750.0   \n",
              "1                NaN              CHEMBL336398              1           100.0   \n",
              "2                NaN              CHEMBL131588              1         50000.0   \n",
              "3                NaN              CHEMBL130628              1           300.0   \n",
              "4                NaN              CHEMBL130478              1           800.0   \n",
              "\n",
              "   type  \n",
              "0  IC50  \n",
              "1  IC50  \n",
              "2  IC50  \n",
              "3  IC50  \n",
              "4  IC50  "
            ],
            "text/html": [
              "\n",
              "  <div id=\"df-474f230b-6da6-4c00-a3b0-df52c89c657a\">\n",
              "    <div class=\"colab-df-container\">\n",
              "      <div>\n",
              "<style scoped>\n",
              "    .dataframe tbody tr th:only-of-type {\n",
              "        vertical-align: middle;\n",
              "    }\n",
              "\n",
              "    .dataframe tbody tr th {\n",
              "        vertical-align: top;\n",
              "    }\n",
              "\n",
              "    .dataframe thead th {\n",
              "        text-align: right;\n",
              "    }\n",
              "</style>\n",
              "<table border=\"1\" class=\"dataframe\">\n",
              "  <thead>\n",
              "    <tr style=\"text-align: right;\">\n",
              "      <th></th>\n",
              "      <th>activity_id</th>\n",
              "      <th>assay_chembl_id</th>\n",
              "      <th>assay_description</th>\n",
              "      <th>assay_type</th>\n",
              "      <th>bao_label</th>\n",
              "      <th>canonical_smiles</th>\n",
              "      <th>document_chembl_id</th>\n",
              "      <th>document_journal</th>\n",
              "      <th>document_year</th>\n",
              "      <th>molecule_chembl_id</th>\n",
              "      <th>molecule_pref_name</th>\n",
              "      <th>parent_molecule_chembl_id</th>\n",
              "      <th>standard_flag</th>\n",
              "      <th>standard_value</th>\n",
              "      <th>type</th>\n",
              "    </tr>\n",
              "  </thead>\n",
              "  <tbody>\n",
              "    <tr>\n",
              "      <th>0</th>\n",
              "      <td>33969</td>\n",
              "      <td>CHEMBL643384</td>\n",
              "      <td>Inhibitory concentration against acetylcholine...</td>\n",
              "      <td>B</td>\n",
              "      <td>single protein format</td>\n",
              "      <td>CCOc1nn(-c2cccc(OCc3ccccc3)c2)c(=O)o1</td>\n",
              "      <td>CHEMBL1148382</td>\n",
              "      <td>J. Med. Chem.</td>\n",
              "      <td>2004.0</td>\n",
              "      <td>CHEMBL133897</td>\n",
              "      <td>NaN</td>\n",
              "      <td>CHEMBL133897</td>\n",
              "      <td>1</td>\n",
              "      <td>750.0</td>\n",
              "      <td>IC50</td>\n",
              "    </tr>\n",
              "    <tr>\n",
              "      <th>1</th>\n",
              "      <td>37563</td>\n",
              "      <td>CHEMBL643384</td>\n",
              "      <td>Inhibitory concentration against acetylcholine...</td>\n",
              "      <td>B</td>\n",
              "      <td>single protein format</td>\n",
              "      <td>O=C(N1CCCCC1)n1nc(-c2ccc(Cl)cc2)nc1SCC1CC1</td>\n",
              "      <td>CHEMBL1148382</td>\n",
              "      <td>J. Med. Chem.</td>\n",
              "      <td>2004.0</td>\n",
              "      <td>CHEMBL336398</td>\n",
              "      <td>NaN</td>\n",
              "      <td>CHEMBL336398</td>\n",
              "      <td>1</td>\n",
              "      <td>100.0</td>\n",
              "      <td>IC50</td>\n",
              "    </tr>\n",
              "    <tr>\n",
              "      <th>2</th>\n",
              "      <td>37565</td>\n",
              "      <td>CHEMBL643384</td>\n",
              "      <td>Inhibitory concentration against acetylcholine...</td>\n",
              "      <td>B</td>\n",
              "      <td>single protein format</td>\n",
              "      <td>CN(C(=O)n1nc(-c2ccc(Cl)cc2)nc1SCC(F)(F)F)c1ccccc1</td>\n",
              "      <td>CHEMBL1148382</td>\n",
              "      <td>J. Med. Chem.</td>\n",
              "      <td>2004.0</td>\n",
              "      <td>CHEMBL131588</td>\n",
              "      <td>NaN</td>\n",
              "      <td>CHEMBL131588</td>\n",
              "      <td>1</td>\n",
              "      <td>50000.0</td>\n",
              "      <td>IC50</td>\n",
              "    </tr>\n",
              "    <tr>\n",
              "      <th>3</th>\n",
              "      <td>38902</td>\n",
              "      <td>CHEMBL643384</td>\n",
              "      <td>Inhibitory concentration against acetylcholine...</td>\n",
              "      <td>B</td>\n",
              "      <td>single protein format</td>\n",
              "      <td>O=C(N1CCCCC1)n1nc(-c2ccc(Cl)cc2)nc1SCC(F)(F)F</td>\n",
              "      <td>CHEMBL1148382</td>\n",
              "      <td>J. Med. Chem.</td>\n",
              "      <td>2004.0</td>\n",
              "      <td>CHEMBL130628</td>\n",
              "      <td>NaN</td>\n",
              "      <td>CHEMBL130628</td>\n",
              "      <td>1</td>\n",
              "      <td>300.0</td>\n",
              "      <td>IC50</td>\n",
              "    </tr>\n",
              "    <tr>\n",
              "      <th>4</th>\n",
              "      <td>41170</td>\n",
              "      <td>CHEMBL643384</td>\n",
              "      <td>Inhibitory concentration against acetylcholine...</td>\n",
              "      <td>B</td>\n",
              "      <td>single protein format</td>\n",
              "      <td>CSc1nc(-c2ccc(OC(F)(F)F)cc2)nn1C(=O)N(C)C</td>\n",
              "      <td>CHEMBL1148382</td>\n",
              "      <td>J. Med. Chem.</td>\n",
              "      <td>2004.0</td>\n",
              "      <td>CHEMBL130478</td>\n",
              "      <td>NaN</td>\n",
              "      <td>CHEMBL130478</td>\n",
              "      <td>1</td>\n",
              "      <td>800.0</td>\n",
              "      <td>IC50</td>\n",
              "    </tr>\n",
              "  </tbody>\n",
              "</table>\n",
              "</div>\n",
              "      <button class=\"colab-df-convert\" onclick=\"convertToInteractive('df-474f230b-6da6-4c00-a3b0-df52c89c657a')\"\n",
              "              title=\"Convert this dataframe to an interactive table.\"\n",
              "              style=\"display:none;\">\n",
              "        \n",
              "  <svg xmlns=\"http://www.w3.org/2000/svg\" height=\"24px\"viewBox=\"0 0 24 24\"\n",
              "       width=\"24px\">\n",
              "    <path d=\"M0 0h24v24H0V0z\" fill=\"none\"/>\n",
              "    <path d=\"M18.56 5.44l.94 2.06.94-2.06 2.06-.94-2.06-.94-.94-2.06-.94 2.06-2.06.94zm-11 1L8.5 8.5l.94-2.06 2.06-.94-2.06-.94L8.5 2.5l-.94 2.06-2.06.94zm10 10l.94 2.06.94-2.06 2.06-.94-2.06-.94-.94-2.06-.94 2.06-2.06.94z\"/><path d=\"M17.41 7.96l-1.37-1.37c-.4-.4-.92-.59-1.43-.59-.52 0-1.04.2-1.43.59L10.3 9.45l-7.72 7.72c-.78.78-.78 2.05 0 2.83L4 21.41c.39.39.9.59 1.41.59.51 0 1.02-.2 1.41-.59l7.78-7.78 2.81-2.81c.8-.78.8-2.07 0-2.86zM5.41 20L4 18.59l7.72-7.72 1.47 1.35L5.41 20z\"/>\n",
              "  </svg>\n",
              "      </button>\n",
              "      \n",
              "  <style>\n",
              "    .colab-df-container {\n",
              "      display:flex;\n",
              "      flex-wrap:wrap;\n",
              "      gap: 12px;\n",
              "    }\n",
              "\n",
              "    .colab-df-convert {\n",
              "      background-color: #E8F0FE;\n",
              "      border: none;\n",
              "      border-radius: 50%;\n",
              "      cursor: pointer;\n",
              "      display: none;\n",
              "      fill: #1967D2;\n",
              "      height: 32px;\n",
              "      padding: 0 0 0 0;\n",
              "      width: 32px;\n",
              "    }\n",
              "\n",
              "    .colab-df-convert:hover {\n",
              "      background-color: #E2EBFA;\n",
              "      box-shadow: 0px 1px 2px rgba(60, 64, 67, 0.3), 0px 1px 3px 1px rgba(60, 64, 67, 0.15);\n",
              "      fill: #174EA6;\n",
              "    }\n",
              "\n",
              "    [theme=dark] .colab-df-convert {\n",
              "      background-color: #3B4455;\n",
              "      fill: #D2E3FC;\n",
              "    }\n",
              "\n",
              "    [theme=dark] .colab-df-convert:hover {\n",
              "      background-color: #434B5C;\n",
              "      box-shadow: 0px 1px 3px 1px rgba(0, 0, 0, 0.15);\n",
              "      filter: drop-shadow(0px 1px 2px rgba(0, 0, 0, 0.3));\n",
              "      fill: #FFFFFF;\n",
              "    }\n",
              "  </style>\n",
              "\n",
              "      <script>\n",
              "        const buttonEl =\n",
              "          document.querySelector('#df-474f230b-6da6-4c00-a3b0-df52c89c657a button.colab-df-convert');\n",
              "        buttonEl.style.display =\n",
              "          google.colab.kernel.accessAllowed ? 'block' : 'none';\n",
              "\n",
              "        async function convertToInteractive(key) {\n",
              "          const element = document.querySelector('#df-474f230b-6da6-4c00-a3b0-df52c89c657a');\n",
              "          const dataTable =\n",
              "            await google.colab.kernel.invokeFunction('convertToInteractive',\n",
              "                                                     [key], {});\n",
              "          if (!dataTable) return;\n",
              "\n",
              "          const docLinkHtml = 'Like what you see? Visit the ' +\n",
              "            '<a target=\"_blank\" href=https://colab.research.google.com/notebooks/data_table.ipynb>data table notebook</a>'\n",
              "            + ' to learn more about interactive tables.';\n",
              "          element.innerHTML = '';\n",
              "          dataTable['output_type'] = 'display_data';\n",
              "          await google.colab.output.renderOutput(dataTable, element);\n",
              "          const docLink = document.createElement('div');\n",
              "          docLink.innerHTML = docLinkHtml;\n",
              "          element.appendChild(docLink);\n",
              "        }\n",
              "      </script>\n",
              "    </div>\n",
              "  </div>\n",
              "  "
            ]
          },
          "metadata": {},
          "execution_count": 109
        }
      ]
    },
    {
      "cell_type": "code",
      "source": [
        "df_final['standard_flag'] = df_final['standard_flag'].astype(float)\n",
        "df_final['standard_value'] = df_final['standard_value'].astype(float)"
      ],
      "metadata": {
        "id": "kBE00KiSYcyo"
      },
      "execution_count": 112,
      "outputs": []
    },
    {
      "cell_type": "code",
      "source": [
        "input_features = list(df_final.columns)\n",
        "input_features.remove('standard_value')\n",
        "output_features = ['standard_value']\n",
        "for single_col in input_features:\n",
        "  if single_col in set(df_final.select_dtypes('object').columns):\n",
        "    df_final[single_col] = LabelEncoder().fit_transform(df_final[single_col])"
      ],
      "metadata": {
        "id": "l9ae4GylXY66"
      },
      "execution_count": 118,
      "outputs": []
    },
    {
      "cell_type": "code",
      "source": [
        "df_final = df_final.dropna()"
      ],
      "metadata": {
        "id": "8JbJk8rYaJt6"
      },
      "execution_count": 114,
      "outputs": []
    },
    {
      "cell_type": "code",
      "source": [
        "def print_stats(df, *args, **kwargs):\n",
        "    print('*' * 40)\n",
        "    print('Our Dataset has {} Rows and {} Columns'.format(df.shape[0], df.shape[1]))\n",
        "    print(\"-\" * 85)\n",
        "    display(df.info())\n",
        "    print(\"-\" * 85)\n",
        "    print('Total Missing Value in each Columns')\n",
        "    display(df.isna().sum())\n",
        "    print('Common Stats of each columns')\n",
        "    display(df.describe(include=['int', 'float']))"
      ],
      "metadata": {
        "id": "0wG0RrQ9kJvF"
      },
      "execution_count": 122,
      "outputs": []
    },
    {
      "cell_type": "code",
      "source": [
        "print_stats(df_final)"
      ],
      "metadata": {
        "colab": {
          "base_uri": "https://localhost:8080/",
          "height": 1000
        },
        "id": "ViClowHhkLYq",
        "outputId": "802d4b19-155b-4b1f-d92a-3cf37bad7c8a"
      },
      "execution_count": 123,
      "outputs": [
        {
          "output_type": "stream",
          "name": "stdout",
          "text": [
            "****************************************\n",
            "Our Dataset has 5799 Rows and 15 Columns\n",
            "-------------------------------------------------------------------------------------\n",
            "<class 'pandas.core.frame.DataFrame'>\n",
            "Int64Index: 5799 entries, 0 to 8388\n",
            "Data columns (total 15 columns):\n",
            " #   Column                     Non-Null Count  Dtype  \n",
            "---  ------                     --------------  -----  \n",
            " 0   activity_id                5799 non-null   int64  \n",
            " 1   assay_chembl_id            5799 non-null   int64  \n",
            " 2   assay_description          5799 non-null   int64  \n",
            " 3   assay_type                 5799 non-null   int64  \n",
            " 4   bao_label                  5799 non-null   int64  \n",
            " 5   canonical_smiles           5799 non-null   int64  \n",
            " 6   document_chembl_id         5799 non-null   int64  \n",
            " 7   document_journal           5799 non-null   int64  \n",
            " 8   document_year              5799 non-null   float64\n",
            " 9   molecule_chembl_id         5799 non-null   int64  \n",
            " 10  molecule_pref_name         5799 non-null   int64  \n",
            " 11  parent_molecule_chembl_id  5799 non-null   int64  \n",
            " 12  standard_flag              5799 non-null   float64\n",
            " 13  standard_value             5799 non-null   float64\n",
            " 14  type                       5799 non-null   int64  \n",
            "dtypes: float64(3), int64(12)\n",
            "memory usage: 724.9 KB\n"
          ]
        },
        {
          "output_type": "display_data",
          "data": {
            "text/plain": [
              "None"
            ]
          },
          "metadata": {}
        },
        {
          "output_type": "stream",
          "name": "stdout",
          "text": [
            "-------------------------------------------------------------------------------------\n",
            "Total Missing Value in each Columns\n"
          ]
        },
        {
          "output_type": "display_data",
          "data": {
            "text/plain": [
              "activity_id                  0\n",
              "assay_chembl_id              0\n",
              "assay_description            0\n",
              "assay_type                   0\n",
              "bao_label                    0\n",
              "canonical_smiles             0\n",
              "document_chembl_id           0\n",
              "document_journal             0\n",
              "document_year                0\n",
              "molecule_chembl_id           0\n",
              "molecule_pref_name           0\n",
              "parent_molecule_chembl_id    0\n",
              "standard_flag                0\n",
              "standard_value               0\n",
              "type                         0\n",
              "dtype: int64"
            ]
          },
          "metadata": {}
        },
        {
          "output_type": "stream",
          "name": "stdout",
          "text": [
            "Common Stats of each columns\n"
          ]
        },
        {
          "output_type": "display_data",
          "data": {
            "text/plain": [
              "        activity_id  assay_chembl_id  assay_description   assay_type  \\\n",
              "count  5.799000e+03      5799.000000        5799.000000  5799.000000   \n",
              "mean   1.150163e+07       274.949991         291.077944     0.980169   \n",
              "std    8.136197e+06       183.664830         143.066457     0.150152   \n",
              "min    3.396900e+04         0.000000           0.000000     0.000000   \n",
              "25%    2.389036e+06       113.000000         169.000000     1.000000   \n",
              "50%    1.455301e+07       253.000000         285.000000     1.000000   \n",
              "75%    1.838566e+07       411.000000         407.000000     1.000000   \n",
              "max    2.331184e+07       625.000000         538.000000     2.000000   \n",
              "\n",
              "         bao_label  canonical_smiles  document_chembl_id  document_journal  \\\n",
              "count  5799.000000       5799.000000         5799.000000       5799.000000   \n",
              "mean      3.559924       2913.014313          230.621142          7.086567   \n",
              "std       1.148430       1680.607997          147.150006          2.906753   \n",
              "min       0.000000          0.000000            0.000000          0.000000   \n",
              "25%       4.000000       1458.500000          107.000000          5.000000   \n",
              "50%       4.000000       2914.000000          220.000000          6.000000   \n",
              "75%       4.000000       4366.500000          352.000000         10.000000   \n",
              "max       5.000000       5823.000000          484.000000         16.000000   \n",
              "\n",
              "       document_year  molecule_chembl_id  molecule_pref_name  \\\n",
              "count    5799.000000         5799.000000         5799.000000   \n",
              "mean     2011.615451         2910.819969          257.722193   \n",
              "std         7.725951         1678.413419           29.775478   \n",
              "min      1986.000000            0.000000            0.000000   \n",
              "25%      2008.000000         1458.500000          263.000000   \n",
              "50%      2014.000000         2912.000000          263.000000   \n",
              "75%      2017.000000         4363.500000          263.000000   \n",
              "max      2021.000000         5823.000000          263.000000   \n",
              "\n",
              "       parent_molecule_chembl_id  standard_flag  standard_value         type  \n",
              "count                5799.000000    5799.000000    5.799000e+03  5799.000000  \n",
              "mean                 2855.976030       0.998793    2.599642e+12     0.135196  \n",
              "std                  1660.035359       0.034725    1.070425e+14     0.589959  \n",
              "min                     0.000000       0.000000    0.000000e+00     0.000000  \n",
              "25%                  1416.500000       1.000000    1.438500e+02     0.000000  \n",
              "50%                  2851.000000       1.000000    2.350000e+03     0.000000  \n",
              "75%                  4293.500000       1.000000    1.700000e+04     0.000000  \n",
              "max                  5733.000000       1.000000    5.888437e+15     3.000000  "
            ],
            "text/html": [
              "\n",
              "  <div id=\"df-e227662e-73af-4f93-9e81-a0b7d99786e0\">\n",
              "    <div class=\"colab-df-container\">\n",
              "      <div>\n",
              "<style scoped>\n",
              "    .dataframe tbody tr th:only-of-type {\n",
              "        vertical-align: middle;\n",
              "    }\n",
              "\n",
              "    .dataframe tbody tr th {\n",
              "        vertical-align: top;\n",
              "    }\n",
              "\n",
              "    .dataframe thead th {\n",
              "        text-align: right;\n",
              "    }\n",
              "</style>\n",
              "<table border=\"1\" class=\"dataframe\">\n",
              "  <thead>\n",
              "    <tr style=\"text-align: right;\">\n",
              "      <th></th>\n",
              "      <th>activity_id</th>\n",
              "      <th>assay_chembl_id</th>\n",
              "      <th>assay_description</th>\n",
              "      <th>assay_type</th>\n",
              "      <th>bao_label</th>\n",
              "      <th>canonical_smiles</th>\n",
              "      <th>document_chembl_id</th>\n",
              "      <th>document_journal</th>\n",
              "      <th>document_year</th>\n",
              "      <th>molecule_chembl_id</th>\n",
              "      <th>molecule_pref_name</th>\n",
              "      <th>parent_molecule_chembl_id</th>\n",
              "      <th>standard_flag</th>\n",
              "      <th>standard_value</th>\n",
              "      <th>type</th>\n",
              "    </tr>\n",
              "  </thead>\n",
              "  <tbody>\n",
              "    <tr>\n",
              "      <th>count</th>\n",
              "      <td>5.799000e+03</td>\n",
              "      <td>5799.000000</td>\n",
              "      <td>5799.000000</td>\n",
              "      <td>5799.000000</td>\n",
              "      <td>5799.000000</td>\n",
              "      <td>5799.000000</td>\n",
              "      <td>5799.000000</td>\n",
              "      <td>5799.000000</td>\n",
              "      <td>5799.000000</td>\n",
              "      <td>5799.000000</td>\n",
              "      <td>5799.000000</td>\n",
              "      <td>5799.000000</td>\n",
              "      <td>5799.000000</td>\n",
              "      <td>5.799000e+03</td>\n",
              "      <td>5799.000000</td>\n",
              "    </tr>\n",
              "    <tr>\n",
              "      <th>mean</th>\n",
              "      <td>1.150163e+07</td>\n",
              "      <td>274.949991</td>\n",
              "      <td>291.077944</td>\n",
              "      <td>0.980169</td>\n",
              "      <td>3.559924</td>\n",
              "      <td>2913.014313</td>\n",
              "      <td>230.621142</td>\n",
              "      <td>7.086567</td>\n",
              "      <td>2011.615451</td>\n",
              "      <td>2910.819969</td>\n",
              "      <td>257.722193</td>\n",
              "      <td>2855.976030</td>\n",
              "      <td>0.998793</td>\n",
              "      <td>2.599642e+12</td>\n",
              "      <td>0.135196</td>\n",
              "    </tr>\n",
              "    <tr>\n",
              "      <th>std</th>\n",
              "      <td>8.136197e+06</td>\n",
              "      <td>183.664830</td>\n",
              "      <td>143.066457</td>\n",
              "      <td>0.150152</td>\n",
              "      <td>1.148430</td>\n",
              "      <td>1680.607997</td>\n",
              "      <td>147.150006</td>\n",
              "      <td>2.906753</td>\n",
              "      <td>7.725951</td>\n",
              "      <td>1678.413419</td>\n",
              "      <td>29.775478</td>\n",
              "      <td>1660.035359</td>\n",
              "      <td>0.034725</td>\n",
              "      <td>1.070425e+14</td>\n",
              "      <td>0.589959</td>\n",
              "    </tr>\n",
              "    <tr>\n",
              "      <th>min</th>\n",
              "      <td>3.396900e+04</td>\n",
              "      <td>0.000000</td>\n",
              "      <td>0.000000</td>\n",
              "      <td>0.000000</td>\n",
              "      <td>0.000000</td>\n",
              "      <td>0.000000</td>\n",
              "      <td>0.000000</td>\n",
              "      <td>0.000000</td>\n",
              "      <td>1986.000000</td>\n",
              "      <td>0.000000</td>\n",
              "      <td>0.000000</td>\n",
              "      <td>0.000000</td>\n",
              "      <td>0.000000</td>\n",
              "      <td>0.000000e+00</td>\n",
              "      <td>0.000000</td>\n",
              "    </tr>\n",
              "    <tr>\n",
              "      <th>25%</th>\n",
              "      <td>2.389036e+06</td>\n",
              "      <td>113.000000</td>\n",
              "      <td>169.000000</td>\n",
              "      <td>1.000000</td>\n",
              "      <td>4.000000</td>\n",
              "      <td>1458.500000</td>\n",
              "      <td>107.000000</td>\n",
              "      <td>5.000000</td>\n",
              "      <td>2008.000000</td>\n",
              "      <td>1458.500000</td>\n",
              "      <td>263.000000</td>\n",
              "      <td>1416.500000</td>\n",
              "      <td>1.000000</td>\n",
              "      <td>1.438500e+02</td>\n",
              "      <td>0.000000</td>\n",
              "    </tr>\n",
              "    <tr>\n",
              "      <th>50%</th>\n",
              "      <td>1.455301e+07</td>\n",
              "      <td>253.000000</td>\n",
              "      <td>285.000000</td>\n",
              "      <td>1.000000</td>\n",
              "      <td>4.000000</td>\n",
              "      <td>2914.000000</td>\n",
              "      <td>220.000000</td>\n",
              "      <td>6.000000</td>\n",
              "      <td>2014.000000</td>\n",
              "      <td>2912.000000</td>\n",
              "      <td>263.000000</td>\n",
              "      <td>2851.000000</td>\n",
              "      <td>1.000000</td>\n",
              "      <td>2.350000e+03</td>\n",
              "      <td>0.000000</td>\n",
              "    </tr>\n",
              "    <tr>\n",
              "      <th>75%</th>\n",
              "      <td>1.838566e+07</td>\n",
              "      <td>411.000000</td>\n",
              "      <td>407.000000</td>\n",
              "      <td>1.000000</td>\n",
              "      <td>4.000000</td>\n",
              "      <td>4366.500000</td>\n",
              "      <td>352.000000</td>\n",
              "      <td>10.000000</td>\n",
              "      <td>2017.000000</td>\n",
              "      <td>4363.500000</td>\n",
              "      <td>263.000000</td>\n",
              "      <td>4293.500000</td>\n",
              "      <td>1.000000</td>\n",
              "      <td>1.700000e+04</td>\n",
              "      <td>0.000000</td>\n",
              "    </tr>\n",
              "    <tr>\n",
              "      <th>max</th>\n",
              "      <td>2.331184e+07</td>\n",
              "      <td>625.000000</td>\n",
              "      <td>538.000000</td>\n",
              "      <td>2.000000</td>\n",
              "      <td>5.000000</td>\n",
              "      <td>5823.000000</td>\n",
              "      <td>484.000000</td>\n",
              "      <td>16.000000</td>\n",
              "      <td>2021.000000</td>\n",
              "      <td>5823.000000</td>\n",
              "      <td>263.000000</td>\n",
              "      <td>5733.000000</td>\n",
              "      <td>1.000000</td>\n",
              "      <td>5.888437e+15</td>\n",
              "      <td>3.000000</td>\n",
              "    </tr>\n",
              "  </tbody>\n",
              "</table>\n",
              "</div>\n",
              "      <button class=\"colab-df-convert\" onclick=\"convertToInteractive('df-e227662e-73af-4f93-9e81-a0b7d99786e0')\"\n",
              "              title=\"Convert this dataframe to an interactive table.\"\n",
              "              style=\"display:none;\">\n",
              "        \n",
              "  <svg xmlns=\"http://www.w3.org/2000/svg\" height=\"24px\"viewBox=\"0 0 24 24\"\n",
              "       width=\"24px\">\n",
              "    <path d=\"M0 0h24v24H0V0z\" fill=\"none\"/>\n",
              "    <path d=\"M18.56 5.44l.94 2.06.94-2.06 2.06-.94-2.06-.94-.94-2.06-.94 2.06-2.06.94zm-11 1L8.5 8.5l.94-2.06 2.06-.94-2.06-.94L8.5 2.5l-.94 2.06-2.06.94zm10 10l.94 2.06.94-2.06 2.06-.94-2.06-.94-.94-2.06-.94 2.06-2.06.94z\"/><path d=\"M17.41 7.96l-1.37-1.37c-.4-.4-.92-.59-1.43-.59-.52 0-1.04.2-1.43.59L10.3 9.45l-7.72 7.72c-.78.78-.78 2.05 0 2.83L4 21.41c.39.39.9.59 1.41.59.51 0 1.02-.2 1.41-.59l7.78-7.78 2.81-2.81c.8-.78.8-2.07 0-2.86zM5.41 20L4 18.59l7.72-7.72 1.47 1.35L5.41 20z\"/>\n",
              "  </svg>\n",
              "      </button>\n",
              "      \n",
              "  <style>\n",
              "    .colab-df-container {\n",
              "      display:flex;\n",
              "      flex-wrap:wrap;\n",
              "      gap: 12px;\n",
              "    }\n",
              "\n",
              "    .colab-df-convert {\n",
              "      background-color: #E8F0FE;\n",
              "      border: none;\n",
              "      border-radius: 50%;\n",
              "      cursor: pointer;\n",
              "      display: none;\n",
              "      fill: #1967D2;\n",
              "      height: 32px;\n",
              "      padding: 0 0 0 0;\n",
              "      width: 32px;\n",
              "    }\n",
              "\n",
              "    .colab-df-convert:hover {\n",
              "      background-color: #E2EBFA;\n",
              "      box-shadow: 0px 1px 2px rgba(60, 64, 67, 0.3), 0px 1px 3px 1px rgba(60, 64, 67, 0.15);\n",
              "      fill: #174EA6;\n",
              "    }\n",
              "\n",
              "    [theme=dark] .colab-df-convert {\n",
              "      background-color: #3B4455;\n",
              "      fill: #D2E3FC;\n",
              "    }\n",
              "\n",
              "    [theme=dark] .colab-df-convert:hover {\n",
              "      background-color: #434B5C;\n",
              "      box-shadow: 0px 1px 3px 1px rgba(0, 0, 0, 0.15);\n",
              "      filter: drop-shadow(0px 1px 2px rgba(0, 0, 0, 0.3));\n",
              "      fill: #FFFFFF;\n",
              "    }\n",
              "  </style>\n",
              "\n",
              "      <script>\n",
              "        const buttonEl =\n",
              "          document.querySelector('#df-e227662e-73af-4f93-9e81-a0b7d99786e0 button.colab-df-convert');\n",
              "        buttonEl.style.display =\n",
              "          google.colab.kernel.accessAllowed ? 'block' : 'none';\n",
              "\n",
              "        async function convertToInteractive(key) {\n",
              "          const element = document.querySelector('#df-e227662e-73af-4f93-9e81-a0b7d99786e0');\n",
              "          const dataTable =\n",
              "            await google.colab.kernel.invokeFunction('convertToInteractive',\n",
              "                                                     [key], {});\n",
              "          if (!dataTable) return;\n",
              "\n",
              "          const docLinkHtml = 'Like what you see? Visit the ' +\n",
              "            '<a target=\"_blank\" href=https://colab.research.google.com/notebooks/data_table.ipynb>data table notebook</a>'\n",
              "            + ' to learn more about interactive tables.';\n",
              "          element.innerHTML = '';\n",
              "          dataTable['output_type'] = 'display_data';\n",
              "          await google.colab.output.renderOutput(dataTable, element);\n",
              "          const docLink = document.createElement('div');\n",
              "          docLink.innerHTML = docLinkHtml;\n",
              "          element.appendChild(docLink);\n",
              "        }\n",
              "      </script>\n",
              "    </div>\n",
              "  </div>\n",
              "  "
            ]
          },
          "metadata": {}
        }
      ]
    },
    {
      "cell_type": "code",
      "source": [
        "model_metric = {}\n",
        "X = df_final[input_features]\n",
        "y = df_final[output_features]\n",
        "X_train, X_test, y_train, y_test = train_test_split(X, y, test_size = 0.3)"
      ],
      "metadata": {
        "id": "ZYtCKpq3kno5"
      },
      "execution_count": 126,
      "outputs": []
    },
    {
      "cell_type": "code",
      "source": [
        "def fit_predict(model, X_train, X_test, y_train, y_test, model_name, *args, **kwargs):\n",
        "    global model_metric\n",
        "    print(f'Starting Training of Model {model_name}')\n",
        "    model.fit(X_train, y_train)\n",
        "    y_predicted = model.predict(X_test)\n",
        "    model_metric[model_name] = {'Number of Features': len(X_train.columns),\n",
        "                                'Features Used': list(X_train.columns),\n",
        "                                'R2 Score': r2_score(y_test, y_predicted),\n",
        "                                'Mean Square Error': mean_squared_error(y_test, y_predicted),\n",
        "                                'Mean Absolute Error': mean_absolute_error(y_test, y_predicted)}\n",
        "    print(f'\\nCalculated Regression Metric for model {model_name}')\n",
        "    print('R2 Score -->', model_metric[model_name]['R2 Score'])\n",
        "    print('Mean Square Error -->', model_metric[model_name]['Mean Square Error'])\n",
        "    print('Mean Absolute Error -->', model_metric[model_name]['Mean Absolute Error'])\n",
        "    print('\\n')\n",
        "    print(f'Completed Training of the Model {model_name}')\n",
        "    print('*' * 40)\n",
        "    return model"
      ],
      "metadata": {
        "id": "tiXp6Og-kRWh"
      },
      "execution_count": 132,
      "outputs": []
    },
    {
      "cell_type": "code",
      "source": [
        "lr_model = LinearRegression()\n",
        "lr_model = fit_predict(lr_model, X_train, X_test, y_train, y_test, 'Linear Regression')"
      ],
      "metadata": {
        "colab": {
          "base_uri": "https://localhost:8080/"
        },
        "id": "b-0tM894YYyA",
        "outputId": "6427ebe1-c7af-4cae-9723-6411be81302c"
      },
      "execution_count": 133,
      "outputs": [
        {
          "output_type": "stream",
          "name": "stdout",
          "text": [
            "Starting Training of Model Linear Regression\n",
            "\n",
            "Calculated Regression Metric for model Linear Regression\n",
            "R2 Score --> 0.0027043890111021485\n",
            "Mean Square Error --> 1.2131678127948133e+28\n",
            "Mean Absolute Error --> 11810834703566.807\n",
            "\n",
            "\n",
            "Completed Training of the Model Linear Regression\n",
            "****************************************\n"
          ]
        }
      ]
    },
    {
      "cell_type": "code",
      "source": [
        "support_vector = SVR()\n",
        "support_vector = fit_predict(support_vector, X_train, X_test, y_train, y_test, 'Support Vector Regression')"
      ],
      "metadata": {
        "colab": {
          "base_uri": "https://localhost:8080/"
        },
        "id": "G2AF8VR7lEld",
        "outputId": "f9572be3-82d3-4a92-e50c-acafc97ed9cb"
      },
      "execution_count": 134,
      "outputs": [
        {
          "output_type": "stream",
          "name": "stdout",
          "text": [
            "Starting Training of Model Support Vector Regression\n"
          ]
        },
        {
          "output_type": "stream",
          "name": "stderr",
          "text": [
            "/usr/local/lib/python3.8/dist-packages/sklearn/utils/validation.py:993: DataConversionWarning: A column-vector y was passed when a 1d array was expected. Please change the shape of y to (n_samples, ), for example using ravel().\n",
            "  y = column_or_1d(y, warn=True)\n"
          ]
        },
        {
          "output_type": "stream",
          "name": "stdout",
          "text": [
            "\n",
            "Calculated Regression Metric for model Support Vector Regression\n",
            "R2 Score --> -0.0007089749484465724\n",
            "Mean Square Error --> 1.2173200252817132e+28\n",
            "Mean Absolute Error --> 2936729399099.173\n",
            "\n",
            "\n",
            "Completed Training of the Model Support Vector Regression\n",
            "****************************************\n"
          ]
        }
      ]
    },
    {
      "cell_type": "code",
      "source": [
        "random_forest = RandomForestRegressor()\n",
        "random_forest = fit_predict(random_forest, X_train, X_test, y_train, y_test, f'Random Forest Regression')"
      ],
      "metadata": {
        "colab": {
          "base_uri": "https://localhost:8080/"
        },
        "id": "FciG5StRlE07",
        "outputId": "27dfc457-6ada-4669-e9cc-aede283a9ad6"
      },
      "execution_count": 135,
      "outputs": [
        {
          "output_type": "stream",
          "name": "stdout",
          "text": [
            "Starting Training of Model Random Forest Regression\n"
          ]
        },
        {
          "output_type": "stream",
          "name": "stderr",
          "text": [
            "<ipython-input-132-f87402c65fa9>:4: DataConversionWarning: A column-vector y was passed when a 1d array was expected. Please change the shape of y to (n_samples,), for example using ravel().\n",
            "  model.fit(X_train, y_train)\n"
          ]
        },
        {
          "output_type": "stream",
          "name": "stdout",
          "text": [
            "\n",
            "Calculated Regression Metric for model Random Forest Regression\n",
            "R2 Score --> 0.1356949410122269\n",
            "Mean Square Error --> 1.0513904467703123e+28\n",
            "Mean Absolute Error --> 4436967889779.154\n",
            "\n",
            "\n",
            "Completed Training of the Model Random Forest Regression\n",
            "****************************************\n"
          ]
        }
      ]
    },
    {
      "cell_type": "code",
      "source": [],
      "metadata": {
        "id": "Uu5yXp7DlE_Y"
      },
      "execution_count": null,
      "outputs": []
    }
  ]
}